{
 "cells": [
  {
   "cell_type": "code",
   "execution_count": 8,
   "metadata": {
    "collapsed": false
   },
   "outputs": [],
   "source": [
    "import urllib"
   ]
  },
  {
   "cell_type": "code",
   "execution_count": 9,
   "metadata": {
    "collapsed": true
   },
   "outputs": [],
   "source": [
    "class queueObject(object):\n",
    "    link = []\n",
    "    parentPos = 0\n",
    "    baconNumber = 0\n",
    "    \n",
    "    def __init__(self, l, pPos, bN):\n",
    "        self.link = l\n",
    "        self.parentPos = pPos\n",
    "        self.baconNumber = bN"
   ]
  },
  {
   "cell_type": "code",
   "execution_count": 10,
   "metadata": {
    "collapsed": true
   },
   "outputs": [],
   "source": [
    "class countLinks(object):\n",
    "    source = []\n",
    "    target = []\n",
    "    \n",
    "    linkQueue = []\n",
    "    queuePos = 0\n",
    "    \n",
    "    def __init__(self, s, t):\n",
    "        self.source = s\n",
    "        self.target = t\n",
    "        \n",
    "        firstLink = queueObject(source, 0, 0)\n",
    "        \n",
    "        self.linkQueue.append(firstLink)\n",
    "        \n",
    "    # returns true if text is a link\n",
    "    # currently, it may not work for all situations. Needs testing\n",
    "    def isLink(text):\n",
    "        if len(text) > 7:\n",
    "            if text[0] == 'h':\n",
    "                if text[1] == 't':\n",
    "                    if text[2] == 't':\n",
    "                        if text[3] == 'p':\n",
    "                            if text[4] == ':':\n",
    "                                if text[5] == '/':\n",
    "                                    if text[6] == '/':\n",
    "                                        return True\n",
    "\n",
    "        if len(text) > 8:\n",
    "            if text[0] == 'h':\n",
    "                if text[1] == 't':\n",
    "                    if text[2] == 't':\n",
    "                        if text[3] == 'p':\n",
    "                            if text[4] == 's':\n",
    "                                if text[5] == ':':\n",
    "                                    if text[6] == '/':\n",
    "                                        if text[7] == '/':\n",
    "                                            return True\n",
    "\n",
    "        if len(text) > 4:\n",
    "            if text[0] == 'w':\n",
    "                if text[1] == 'w':\n",
    "                    if text[2] == 'w':\n",
    "                        if text[3] == '.':\n",
    "                            return True\n",
    "    \n",
    "        return False\n",
    "\n",
    "    # gets all the html stuff from specified page\n",
    "    def getInfo(self, link):\n",
    "        \n",
    "        fin = urllib.urlopen(link)\n",
    "        info = fin.read()\n",
    "        fin.close()\n",
    "        \n",
    "        return info\n",
    "       \n",
    "    # adds all the links from a given page to queue\n",
    "    def addLinks(self, linkObj):\n",
    "        \n",
    "        info = getInfo(linkObj.link)\n",
    "        \n",
    "        i = 0\n",
    "\n",
    "        while i in range(len(storage)):\n",
    "\n",
    "            quote = []\n",
    "            j = 1\n",
    "\n",
    "            # if openning quote is found\n",
    "            if storage[i] == \"\\\"\": \n",
    "\n",
    "                # find everything within quote\n",
    "                # end if end of storage reached or end quote is found\n",
    "                while i + j < len(storage) and storage[i + j] != \"\\\"\":\n",
    "                    quote.append(storage[i + j])\n",
    "\n",
    "                    j += 1 \n",
    "\n",
    "                if isLink(quote) == True:\n",
    "                    self.linkQueue.append(queueObject(quote, , linkObj.baconNumber + 1))\n",
    "\n",
    "            i += j        \n",
    "    \n",
    "    def findTarget(self):\n",
    "        \n",
    "        while 10 > queuePos < len(self.linkQueue):\n",
    "            # start from source and go through all links\n",
    "            currentLink = self.linkQueue[queuePos]\n",
    "        \n",
    "            if currentLink.link != target: # if current page is not the end\n",
    "\n",
    "                # find all its links & store\n",
    "                addLinks(currentLink)\n",
    "\n",
    "            else: # else target is found\n",
    "\n",
    "                print \"Target Found\"\n",
    "                # display path\n",
    "\n",
    "            queuePos += 1\n",
    "        "
   ]
  },
  {
   "cell_type": "code",
   "execution_count": null,
   "metadata": {
    "collapsed": false
   },
   "outputs": [],
   "source": []
  }
 ],
 "metadata": {
  "kernelspec": {
   "display_name": "Python 2",
   "language": "python",
   "name": "python2"
  },
  "language_info": {
   "codemirror_mode": {
    "name": "ipython",
    "version": 2
   },
   "file_extension": ".py",
   "mimetype": "text/x-python",
   "name": "python",
   "nbconvert_exporter": "python",
   "pygments_lexer": "ipython2",
   "version": "2.7.6"
  }
 },
 "nbformat": 4,
 "nbformat_minor": 0
}
