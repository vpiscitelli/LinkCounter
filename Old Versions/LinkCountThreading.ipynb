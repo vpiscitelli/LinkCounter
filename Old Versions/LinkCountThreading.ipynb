{
 "cells": [
  {
   "cell_type": "code",
   "execution_count": 5,
   "metadata": {
    "collapsed": true
   },
   "outputs": [],
   "source": [
    "import Queue\n",
    "import threading\n",
    "import urllib2\n",
    "\n"
   ]
  },
  {
   "cell_type": "code",
   "execution_count": 6,
   "metadata": {
    "collapsed": true
   },
   "outputs": [],
   "source": [
    "class linkObject(object):\n",
    "    link = [] # the actual link\n",
    "    parentPos = 0\n",
    "    baconNumber = 0 # distance from source\n",
    "    \n",
    "    def __init__(self, l, pPos, bN):\n",
    "        self.link = l\n",
    "        self.parentPos = pPos\n",
    "        self.baconNumber = bN"
   ]
  },
  {
   "cell_type": "code",
   "execution_count": 7,
   "metadata": {
    "collapsed": false
   },
   "outputs": [],
   "source": [
    "class linkCounter(object):\n",
    "    source = []\n",
    "    target = []\n",
    "    \n",
    "    linkQueue = []\n",
    "    \n",
    "    def __init__(self, s, t):\n",
    "        self.source = s\n",
    "        self.target = t\n",
    "        \n",
    "        # add source as first link object in queue\n",
    "        self.linkQueue.append(linkObject(self.source, 0, 0))\n",
    "        \n",
    "    # returns true if the text is a link    \n",
    "    def isLink(self, text):\n",
    "        if len(text) > 7:\n",
    "            if text[0] == 'h':\n",
    "                if text[1] == 't':\n",
    "                    if text[2] == 't':\n",
    "                        if text[3] == 'p':\n",
    "                            if text[4] == ':':\n",
    "                                if text[5] == '/':\n",
    "                                    if text[6] == '/':\n",
    "                                        return True\n",
    "\n",
    "        if len(text) > 8:\n",
    "            if text[0] == 'h':\n",
    "                if text[1] == 't':\n",
    "                    if text[2] == 't':\n",
    "                        if text[3] == 'p':\n",
    "                            if text[4] == 's':\n",
    "                                if text[5] == ':':\n",
    "                                    if text[6] == '/':\n",
    "                                        if text[7] == '/':\n",
    "                                            return True\n",
    "\n",
    "        if len(text) > 4:\n",
    "            if text[0] == 'w':\n",
    "                if text[1] == 'w':\n",
    "                    if text[2] == 'w':\n",
    "                        if text[3] == '.':\n",
    "                            return True\n",
    "    \n",
    "        return False\n",
    "    \n",
    "    # gets all the html stuff from specified page\n",
    "    def getInfo(self, link):\n",
    "        try:\n",
    "            fin = urllib.urlopen(''.join(link))\n",
    "            info = fin.read()\n",
    "            fin.close()      \n",
    "            return info\n",
    "        except:\n",
    "            return 0\n",
    "        \n",
    "    # checks to see if the link is already on list\n",
    "    def linkAlreadyAdded(self, link):\n",
    "        for i in range(len(self.linkQueue)):\n",
    "            if link == self.linkQueue[i].link:\n",
    "                return True\n",
    "        return False\n",
    "        \n",
    "    # adds all the links from a given page to the queue\n",
    "    def addLinks(self, linkObj):\n",
    "        \n",
    "        info = self.getInfo(linkObj.link)\n",
    "        \n",
    "        i = 0\n",
    "        \n",
    "        if info != 0:\n",
    "            while i in range(len(info)):\n",
    "\n",
    "                quote = []\n",
    "                j = 1\n",
    "\n",
    "                # if opening quote is found\n",
    "                if info[i] == \"\\\"\":\n",
    "\n",
    "                    # find everything within quote\n",
    "                    # end if end of info reached or end quote is found\n",
    "                    while i + j < len(info) and info[i + j] != \"\\\"\":\n",
    "                        quote.append(info[i + j])\n",
    "\n",
    "                        j += 1\n",
    "\n",
    "                    # if its a link\n",
    "                    if self.isLink(quote) == True:\n",
    "                        \n",
    "                        # if link is not already on list\n",
    "                        if self.linkAlreadyAdded(quote) == False:\n",
    "                            self.linkQueue.append(linkObject(quote, linkObj.parentPos, linkObj.baconNumber + 1))\n",
    "                            #print \"Adding:\", ''.join(quote)            \n",
    "\n",
    "                i += j\n",
    "        \n",
    "    def printPath(self, linkObj):\n",
    "        if linkObj.baconNumber != 0:\n",
    "            self.printPath(self.linkQueue[linkObj.parentPos])\n",
    "        \n",
    "        print ''.join(linkObj.link)\n",
    "        \n",
    "    def findTarget(self):\n",
    "        print \"Starting at:\", self.source\n",
    "        print \"Looking for:\", self.target\n",
    "        \n",
    "        # start at begining of queue\n",
    "        # not actually removing from queue since program shouldn't\n",
    "        # visit the same page more than once\n",
    "        queuePos = 0\n",
    "        \n",
    "        i = len(linkQueue)\n",
    "        while i > 0:\n",
    "            t = threading.Thread(target = getInfo, args = (i,))\n",
    "\n",
    "        \n",
    "        "
   ]
  },
  {
   "cell_type": "code",
   "execution_count": 8,
   "metadata": {
    "collapsed": false
   },
   "outputs": [
    {
     "name": "stdout",
     "output_type": "stream",
     "text": [
      "Starting at: http://www.reddit.com\n",
      "Looking for: https://www.reddit.com/wiki/faq\n"
     ]
    }
   ],
   "source": [
    "test = linkCounter(\"http://www.reddit.com\", \"https://www.reddit.com/wiki/faq\")\n",
    "test.findTarget()"
   ]
  },
  {
   "cell_type": "code",
   "execution_count": null,
   "metadata": {
    "collapsed": true
   },
   "outputs": [],
   "source": []
  }
 ],
 "metadata": {
  "kernelspec": {
   "display_name": "Python 2",
   "language": "python",
   "name": "python2"
  },
  "language_info": {
   "codemirror_mode": {
    "name": "ipython",
    "version": 2
   },
   "file_extension": ".py",
   "mimetype": "text/x-python",
   "name": "python",
   "nbconvert_exporter": "python",
   "pygments_lexer": "ipython2",
   "version": "2.7.6"
  }
 },
 "nbformat": 4,
 "nbformat_minor": 0
}
