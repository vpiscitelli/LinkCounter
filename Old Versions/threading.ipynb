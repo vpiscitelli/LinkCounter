{
 "cells": [
  {
   "cell_type": "code",
   "execution_count": 47,
   "metadata": {
    "collapsed": false
   },
   "outputs": [
    {
     "name": "stdout",
     "output_type": "stream",
     "text": [
      "4\n",
      "<class 'threading._Condition'>\n",
      "<_MainThread(MainThread, started 139623689094976)>\n",
      "[<_MainThread(MainThread, started 139623689094976)>, <Heartbeat(Thread-2, started daemon 139623556667136)>, <ParentPollerUnix(Thread-1, started daemon 139623518041856)>, <HistorySavingThread(IPythonHistorySavingThread, started 139623531489024)>]\n",
      "<class 'threading._Event'>\n",
      "1\n"
     ]
    },
    {
     "data": {
      "text/plain": [
       "thread.error"
      ]
     },
     "execution_count": 47,
     "metadata": {},
     "output_type": "execute_result"
    }
   ],
   "source": [
    "import threading\n",
    "\n",
    "# returns number of Thread objects alive\n",
    "#print threading.active_count()\n",
    "print threading.activeCount()\n",
    "\n",
    "# returns a new condition variable object\n",
    "print type(threading.Condition())\n",
    "\n",
    "# returns current thread\n",
    "print threading.currentThread()\n",
    "\n",
    "# returns a list of all Thread objects currently alive\n",
    "print threading.enumerate()\n",
    "\n",
    "# returns a new event object\n",
    "print type(threading.Event())\n",
    "\n",
    "# a class that represents thread-local data\n",
    "myData = threading.local()\n",
    "myData.x = 1\n",
    "print myData.x\n",
    "\n",
    "# returns a new primitive lock object. Once a thread has acquired it, \n",
    "# subsequent attempts to acquire it block, until it is released; any\n",
    "# thread may release it\n",
    "threading.Lock()\n",
    "\n",
    "# returns a new reentrant lock object. A reentrant lock must be \n",
    "# released by the thread that acquired it. Once a thread has\n",
    "# acquired a reentrant lock, the same thread may acquire it again\n",
    "# without blocking; the thread must release it once for each time\n",
    "# it has acquired it\n",
    "threading.RLock()\n",
    "\n",
    "# returns a new semaphore object. manages a counter representing \n",
    "# the number of release() calls minus the number of acquire() calls,\n",
    "# plus an initial value. The aquire() method blocks if necessary until\n",
    "# it can return without making the counter negative\n",
    "threading.Semaphore([1])\n",
    "\n",
    "# returns a bounded semaphore object. makes sure current value doesn't exceed its\n",
    "# initial value.\n",
    "threading.BoundedSemaphore([1])\n",
    "\n",
    "# a class that represents a thread of control\n",
    "threading.Thread\n",
    "\n",
    "# a thread that executes a function after a specified interval has passed\n",
    "threading.Timer\n",
    "\n",
    "# sets a trace function for all threads started from the threading module\n",
    "#threading.settrace(func)\n",
    "\n",
    "# sets a profile funciton for all threads started from the threading module\n",
    "#threading.setprofile(func)\n",
    "\n",
    "# returns the thread stack size used when creating new threads\n",
    "threading.stack_size(0)\n",
    "\n",
    "# exception. raised for various threading-related errors\n",
    "threading.ThreadError\n",
    "\n"
   ]
  },
  {
   "cell_type": "code",
   "execution_count": 48,
   "metadata": {
    "collapsed": true
   },
   "outputs": [],
   "source": [
    "def printNumbers():\n",
    "    for i in range(5):\n",
    "        print i"
   ]
  },
  {
   "cell_type": "code",
   "execution_count": 49,
   "metadata": {
    "collapsed": false
   },
   "outputs": [
    {
     "name": "stdout",
     "output_type": "stream",
     "text": [
      "0\n",
      "1\n",
      "2\n",
      "3\n",
      "4\n",
      "Thread-11\n",
      "starting activity\n"
     ]
    }
   ],
   "source": [
    "testThread2 = threading.Thread(None, printNumbers(), None)\n",
    "print testThread.name\n",
    "print \"starting activity\"\n",
    "testThread2.start() # starts its activity"
   ]
  },
  {
   "cell_type": "code",
   "execution_count": 50,
   "metadata": {
    "collapsed": false
   },
   "outputs": [
    {
     "name": "stdout",
     "output_type": "stream",
     "text": [
      "hello world!\n"
     ]
    }
   ],
   "source": [
    "def hello():\n",
    "    print \"hello world!\"\n",
    "    \n",
    "t = threading.Timer(8.0, hello())\n",
    "t.cancel()"
   ]
  },
  {
   "cell_type": "code",
   "execution_count": null,
   "metadata": {
    "collapsed": true
   },
   "outputs": [],
   "source": []
  }
 ],
 "metadata": {
  "kernelspec": {
   "display_name": "Python 2",
   "language": "python",
   "name": "python2"
  },
  "language_info": {
   "codemirror_mode": {
    "name": "ipython",
    "version": 2
   },
   "file_extension": ".py",
   "mimetype": "text/x-python",
   "name": "python",
   "nbconvert_exporter": "python",
   "pygments_lexer": "ipython2",
   "version": "2.7.6"
  }
 },
 "nbformat": 4,
 "nbformat_minor": 0
}
